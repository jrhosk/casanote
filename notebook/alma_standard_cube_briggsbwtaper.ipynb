{
 "cells": [
  {
   "cell_type": "markdown",
   "metadata": {},
   "source": [
    "## Certify and install required python modules."
   ]
  },
  {
   "cell_type": "code",
   "execution_count": null,
   "metadata": {},
   "outputs": [],
   "source": [
    "import os\n",
    "import sys\n",
    "import subprocess\n",
    "import pkg_resources\n",
    "\n",
    "__require = {'casatools', 'casatasks', 'casatestutils', 'panel', 'astropy', 'matplotlib', 'numpy'}\n",
    "__installed = {pkg.key for pkg in pkg_resources.working_set}\n",
    "    \n",
    "__missing = __require - __installed\n",
    "\n",
    "os.chdir('../')\n",
    "\n",
    "if len(__missing) > 0:\n",
    "    subprocess.check_call([sys.executable, '-m', 'pip', 'install', *__missing], stdout=subprocess.DEVNULL)"
   ]
  },
  {
   "cell_type": "code",
   "execution_count": null,
   "metadata": {
    "id": "VlBxKASNqblr"
   },
   "outputs": [],
   "source": [
    "!python3 -m casatools --update-user-data"
   ]
  },
  {
   "cell_type": "markdown",
   "metadata": {
    "id": "Y5_Y1wfXFMoo"
   },
   "source": [
    "## Utility Functions"
   ]
  },
  {
   "cell_type": "code",
   "execution_count": null,
   "metadata": {
    "colab": {
     "base_uri": "https://localhost:8080/"
    },
    "id": "SsZH-VzmYs8P",
    "outputId": "1ac54b27-ed61-4818-a3d5-13c738434e77"
   },
   "outputs": [],
   "source": [
    "def clean_data(prefix=''):\n",
    "    import os\n",
    "    import glob\n",
    "    import shutil\n",
    "    \n",
    "    for file in glob.glob('{0}/{1}*.*'.format(os.getcwd(), prefix)):\n",
    "        print(os.getcwd())\n",
    "        try:\n",
    "            shutil.rmtree(file)\n",
    "        except Exception as error:\n",
    "            print('Failed to remove {0}: {1}'.format(file, error))"
   ]
  },
  {
   "cell_type": "markdown",
   "metadata": {
    "id": "J88MWrnHFXZP"
   },
   "source": [
    "## Stakeholder Dataset"
   ]
  },
  {
   "cell_type": "markdown",
   "metadata": {
    "id": "qkRyVmChIil2"
   },
   "source": [
    "```\n",
    "Dataset(s) (MOUS)\n",
    "E2E6.1.00034.S (uid://A002/Xcff05c/X1ec)\n",
    "\n",
    "Test list:\n",
    "1c.  SF cube with pcwdT, weighting=briggsbwtaper - E2E6.1.00034.S\n",
    "\n",
    "Each test stores reference values in dictionaries for the metrics\n",
    "to be tested and these dictionaries are stored in a single nested dictionary\n",
    "in a json file located in the casatestdata repository. \n",
    "The path of json file is stored in the variable, \n",
    "       self.expdict_jsonfile  \n",
    "in test_tclean_base.setUp(). \n",
    "\n",
    "* NOTE for updating the tests and fiducial values in json file *\n",
    "When the json file is updated and its 'casa_version'\n",
    "could also be updated then self.refversion in the setUp() needs to be updated to\n",
    "match with the 'casa_version' as defined in the json file otherwise \n",
    "almastkteestutils.read_testcase_expdicts() print an error message.\n",
    "\n",
    "The fudicial metric values for a specific image are stored with the following keys.\n",
    " \n",
    "For the standard tests, default sets are:\n",
    "    exp_im_stats, exp_mask_stats, exp_pb_stats, exp_psf_stats,\n",
    "    exp_model_stats, exp_resid_stats, exp_sumwt_stats\n",
    "For mosaic tests, the ones above and\n",
    "    exp_wt_stats (for mosaic)\n",
    "Additionally, for cube imaging (if self.parallel=True),\n",
    "    exp_bmin_dict, exp_bmaj_dict, exp_pa_dict\n",
    "And for mtmfs\n",
    "    exp_im1_stats, exp_model1_stats, exp_resid1_stats, exp_sumwt1_stats\n",
    "```"
   ]
  },
  {
   "cell_type": "markdown",
   "metadata": {
    "id": "RfDJlKvqGFKj"
   },
   "source": [
    "## Load Stakeholder Data"
   ]
  },
  {
   "cell_type": "code",
   "execution_count": null,
   "metadata": {
    "colab": {
     "base_uri": "https://localhost:8080/"
    },
    "id": "9vDBSCKw2a2h",
    "outputId": "72320507-413d-44ab-ce5f-6838b4646451",
    "scrolled": true
   },
   "outputs": [],
   "source": [
    "os.mkdir('data/')\n",
    "\n",
    "!wget -r -np -nH --cut-dirs=4 --reject \"index.html*\" https://www.cv.nrao.edu/~jhoskins/E2E6.1.00034.S_tclean.ms.tar\n",
    "!tar -xvf E2E6.1.00034.S_tclean.ms.tar\n",
    "os.system('mv E2E6.1.00034.S_tclean.ms/ data/E2E6.1.00034.S_tclean.ms/')\n",
    "\n",
    "!wget -r -np -nH --cut-dirs=4 --reject \"index.html*\" https://www.cv.nrao.edu/~jhoskins/test_stk_alma_pipeline_imaging_exp_dicts.json\n",
    "os.system('cp test_stk_alma_pipeline_imaging_exp_dicts.json ./data/')    "
   ]
  },
  {
   "cell_type": "markdown",
   "metadata": {
    "id": "rcdI_4s_Fusc"
   },
   "source": [
    "## Import Required Dependencies"
   ]
  },
  {
   "cell_type": "code",
   "execution_count": null,
   "metadata": {
    "colab": {
     "base_uri": "https://localhost:8080/",
     "height": 34
    },
    "id": "BZv81A02X5DX",
    "outputId": "701e9c11-c24d-487c-9c9d-b7f6f7855211"
   },
   "outputs": [],
   "source": [
    "import casatasks\n",
    "import casatools\n",
    "import panel as pn\n",
    "\n",
    "from astropy.io import fits\n",
    "from astropy.wcs import WCS\n",
    "\n",
    "import matplotlib.pyplot as plt\n",
    "import numpy as np\n",
    "\n",
    "import tests.alma.test_standard_cube_briggsbwtaper as stk"
   ]
  },
  {
   "cell_type": "markdown",
   "metadata": {
    "id": "tzhuhki9F6ds"
   },
   "source": [
    "## User Stakeholder Test\n",
    "\n",
    "The unit test script is broken into **three** core parts within the notebook.\n",
    "\n",
    "- Setup\n",
    "- Modifiable Tests\n",
    "- Metric Checks and Reporting\n",
    "\n",
    "### Setup \n",
    "The setup section handles setting up the untit test and general class instantiation. In general the user shouldn't have to change this. For those that are developing their own stakeholder test, the setup section would include all the functions required to run the unit tests along with any user defined utility functions specific to their tests.\n",
    "\n",
    "### Testing\n",
    "The testing section makes the stakeholder test code available to the user such that they can modify parameters, check their diagnostic and rerun the tests. The tests in the notebook are presented as they are defined in the unit testing script including their default values. **It is recommended that the user restart the kernel and run all after each change**\n",
    "\n",
    "### Metric Checks and Testing\n",
    "This section runs the unit tests built in metric code as well as allowing the user to write their won diagnostics code. In addition, the user can access and tweak the values in the 'expected metrics' JSON using the setter/getter functionality.\n",
    "\n",
    "**Getting**\n",
    "`new_dict = standard.exp_dict`\n",
    "\n",
    "**Modifying**\n",
    "`new_dict['exp_im_stats']['im_rms'][1] = <new value>`\n",
    "\n",
    "**Setting**\n",
    "`standard.exp_dict = new_dict`\n",
    "\n",
    "The user can now rerun the metric test functions and the new dictionay will be used. This will not be the case if the kernel or the testing class is reinstantiated."
   ]
  },
  {
   "cell_type": "markdown",
   "metadata": {},
   "source": [
    "## Setup"
   ]
  },
  {
   "cell_type": "code",
   "execution_count": null,
   "metadata": {
    "id": "z2Stn3MBcYfE"
   },
   "outputs": [],
   "source": [
    "standard = stk.Test_standard()\n",
    "\n",
    "standard.set_file_path(path=os.getcwd()+\"/data/\")\n",
    "\n",
    "standard.setUp()\n",
    "standard.test_standard_cube_briggsbwtaper()"
   ]
  },
  {
   "cell_type": "markdown",
   "metadata": {},
   "source": [
    "## Testing\n",
    "\n",
    "The head(footer) are used with `nbsyc.py` which allows the user to sync change either from `notebook` --> `scipt` or `script` --> `notebook`. The formatting of the headers(footers) is important. There must be a single whitespace after the header and before the footer. Any changes made between the header(footer) will be sync with `nbsync.py`."
   ]
  },
  {
   "cell_type": "code",
   "execution_count": null,
   "metadata": {
    "colab": {
     "base_uri": "https://localhost:8080/"
    },
    "id": "PijniNbycfPc",
    "outputId": "8e9b4a7b-91ad-4781-a618-30e8ff29c52f",
    "scrolled": false
   },
   "outputs": [],
   "source": [
    "msfile = standard.data_path + 'E2E6.1.00034.S_tclean.ms'\n",
    "file_name = standard.file_name\n",
    "\n",
    "# %% test_standard_cube_briggsbwtaper_tclean_1 start @\n",
    "\n",
    "casatasks.tclean(vis=msfile, \n",
    "                 imagename=file_name+'0', \n",
    "                 field='1',\n",
    "                 spw=['0'], \n",
    "                 imsize=[80, 80], \n",
    "                 antenna=['0,1,2,3,4,5,6,7,8'], \n",
    "                 scan=['8,12,16'], \n",
    "                 intent='OBSERVE_TARGET#ON_SOURCE',\n",
    "                 datacolumn='data', \n",
    "                 cell=['1.1arcsec'], \n",
    "                 phasecenter='ICRS 00:45:54.3836 -073.15.29.413', \n",
    "                 stokes='I', \n",
    "                 specmode='cube',\n",
    "                 nchan=508, \n",
    "                 start='220.2526743594GHz', \n",
    "                 width='0.2441741MHz',\n",
    "                 outframe='LSRK', \n",
    "                 pblimit=0.2, \n",
    "                 perchanweightdensity=True,\n",
    "                 gridder='standard', \n",
    "                 mosweight=False,\n",
    "                 deconvolver='hogbom', \n",
    "                 usepointing=False, \n",
    "                 restoration=False,\n",
    "                 pbcor=False, \n",
    "                 weighting='briggsbwtaper', \n",
    "                 restoringbeam='common',\n",
    "                 robust=0.5, npixels=0, \n",
    "                 niter=0, \n",
    "                 threshold='0.0mJy', \n",
    "                 nsigma=0.0,\n",
    "                 interactive=0, \n",
    "                 usemask='auto-multithresh',\n",
    "                 sidelobethreshold=1.25, \n",
    "                 noisethreshold=5.0,\n",
    "                 lownoisethreshold=2.0, \n",
    "                 negativethreshold=0.0, \n",
    "                 minbeamfrac=0.1,\n",
    "                 growiterations=75, \n",
    "                 dogrowprune=True, \n",
    "                 minpercentchange=1.0,\n",
    "                 fastnoise=False, \n",
    "                 savemodel='none', \n",
    "                 parallel=False,\n",
    "                 verbose=True)\n",
    "\n",
    "# %% test_standard_cube_briggsbwtaper_tclean_1 end @\n"
   ]
  },
  {
   "cell_type": "code",
   "execution_count": null,
   "metadata": {
    "colab": {
     "base_uri": "https://localhost:8080/"
    },
    "id": "s8EX0CndzHQM",
    "outputId": "a14a7aaa-9c33-4ff0-bd80-3fc4dfc470fc"
   },
   "outputs": [],
   "source": [
    "print('Copying iter0 files to iter1')\n",
    "standard.copy_products(file_name+'0', file_name+'1')\n",
    "\n",
    "casatasks.imstat(standard.file_name + '0.psf')"
   ]
  },
  {
   "cell_type": "code",
   "execution_count": null,
   "metadata": {
    "colab": {
     "base_uri": "https://localhost:8080/"
    },
    "id": "Pv_7DKiQcd90",
    "outputId": "644d185c-e17d-4a5b-e9aa-2104d04634cf"
   },
   "outputs": [],
   "source": [
    "# %% test_standard_cube_briggsbwtaper_tclean_2 start @\n",
    "\n",
    "casatasks.tclean(vis=msfile, \n",
    "                 imagename=file_name+'1', \n",
    "                 field='1',\n",
    "                 spw=['0'], \n",
    "                 imsize=[80, 80], \n",
    "                 antenna=['0,1,2,3,4,5,6,7,8'],\n",
    "                 scan=['8,12,16'], \n",
    "                 intent='OBSERVE_TARGET#ON_SOURCE',\n",
    "                 datacolumn='data', \n",
    "                 cell=['1.1arcsec'], \n",
    "                 phasecenter='ICRS 00:45:54.3836 -073.15.29.413', \n",
    "                 stokes='I', \n",
    "                 specmode='cube',\n",
    "                 nchan=508, \n",
    "                 start='220.2526743594GHz', \n",
    "                 width='0.2441741MHz',\n",
    "                 outframe='LSRK', \n",
    "                 perchanweightdensity=True,\n",
    "                 usepointing=False, \n",
    "                 pblimit=0.2, \n",
    "                 nsigma=0.0,\n",
    "                 gridder='standard', \n",
    "                 mosweight=False, \n",
    "                 deconvolver='hogbom', \n",
    "                 restoration=True, \n",
    "                 restoringbeam='common', \n",
    "                 pbcor=True, \n",
    "                 weighting='briggsbwtaper', \n",
    "                 robust=0.5, \n",
    "                 npixels=0, \n",
    "                 niter=20000,\n",
    "                 threshold='0.354Jy', \n",
    "                 interactive=0, \n",
    "                 usemask='auto-multithresh', \n",
    "                 sidelobethreshold=1.25, \n",
    "                 noisethreshold=5.0, \n",
    "                 lownoisethreshold=2.0, \n",
    "                 negativethreshold=0.0,\n",
    "                 minbeamfrac=0.08, \n",
    "                 growiterations=75, \n",
    "                 dogrowprune=True,\n",
    "                 minpercentchange=1.0, \n",
    "                 fastnoise=False, \n",
    "                 restart=True, \n",
    "                 calcres=False, \n",
    "                 calcpsf=False, \n",
    "                 savemodel='none',\n",
    "                 parallel=False, \n",
    "                 verbose=True)\n",
    "\n",
    "# %% test_standard_cube_briggsbwtaper_tclean_2 end @"
   ]
  },
  {
   "cell_type": "markdown",
   "metadata": {
    "id": "6t2vW9TAGOnf"
   },
   "source": [
    "## Produce Standard Cube Report"
   ]
  },
  {
   "cell_type": "markdown",
   "metadata": {
    "id": "OyXwWoMYRILb"
   },
   "source": [
    "\n"
   ]
  },
  {
   "cell_type": "code",
   "execution_count": null,
   "metadata": {
    "id": "dfM5kNB7ckkN"
   },
   "outputs": [],
   "source": [
    "standard.standard_cube_report()"
   ]
  },
  {
   "cell_type": "markdown",
   "metadata": {},
   "source": [
    "### Display Weblog"
   ]
  },
  {
   "cell_type": "code",
   "execution_count": null,
   "metadata": {},
   "outputs": [],
   "source": [
    "from IPython.display import IFrame\n",
    "\n",
    "IFrame(src='../test_tclean_alma_pipeline_weblog.html', width=900, height=600)"
   ]
  },
  {
   "cell_type": "markdown",
   "metadata": {},
   "source": [
    "## Clean Data\n",
    "Uncomment this if you want to clean the working files out of the directory."
   ]
  },
  {
   "cell_type": "code",
   "execution_count": null,
   "metadata": {},
   "outputs": [],
   "source": [
    "clean_data(prefix='standard_cube')"
   ]
  },
  {
   "cell_type": "markdown",
   "metadata": {},
   "source": [
    "## Example: Modifying Expected Metrics JSON"
   ]
  },
  {
   "cell_type": "code",
   "execution_count": null,
   "metadata": {
    "scrolled": true
   },
   "outputs": [],
   "source": [
    "# Getting expected values JSON\n",
    "\n",
    "import json\n",
    "\n",
    "new_dict = standard.exp_dict\n",
    "new_dict_pretty = json.dumps(new_dict, indent=4)\n",
    "\n",
    "print(new_dict_pretty)"
   ]
  },
  {
   "cell_type": "code",
   "execution_count": null,
   "metadata": {},
   "outputs": [],
   "source": [
    "# Modifying expected values JSON\n",
    "\n",
    "new_dict['exp_im_stats']['com_bmin'][1] = 6.203"
   ]
  },
  {
   "cell_type": "code",
   "execution_count": null,
   "metadata": {},
   "outputs": [],
   "source": [
    "# Setting expected values JSON\n",
    "\n",
    "standard.exp_dict = new_dict\n",
    "\n",
    "exp_dict_pretty = json.dumps(standard.exp_dict, indent=4)\n",
    "\n",
    "print(exp_dict_pretty)"
   ]
  }
 ],
 "metadata": {
  "colab": {
   "collapsed_sections": [
    "J88MWrnHFXZP",
    "5omVbUilFTK6"
   ],
   "name": "stakeholder.ipynb",
   "provenance": []
  },
  "kernelspec": {
   "display_name": "Python 3",
   "language": "python",
   "name": "python3"
  },
  "language_info": {
   "codemirror_mode": {
    "name": "ipython",
    "version": 3
   },
   "file_extension": ".py",
   "mimetype": "text/x-python",
   "name": "python",
   "nbconvert_exporter": "python",
   "pygments_lexer": "ipython3",
   "version": "3.6.8"
  }
 },
 "nbformat": 4,
 "nbformat_minor": 4
}
