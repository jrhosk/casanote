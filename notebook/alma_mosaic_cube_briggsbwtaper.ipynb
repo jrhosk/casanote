{
 "cells": [
  {
   "cell_type": "markdown",
   "metadata": {},
   "source": [
    "## Certify and install required python modules."
   ]
  },
  {
   "cell_type": "code",
   "execution_count": null,
   "metadata": {},
   "outputs": [],
   "source": [
    "import os\n",
    "import sys\n",
    "import subprocess\n",
    "import pkg_resources\n",
    "\n",
    "__require = {'casatools', 'casatasks', 'casatestutils', 'panel', 'astropy', 'matplotlib', 'numpy'}\n",
    "__installed = {pkg.key for pkg in pkg_resources.working_set}\n",
    "    \n",
    "__missing = __require - __installed\n",
    "\n",
    "\n",
    "if len(__missing) > 0:\n",
    "    subprocess.check_call([sys.executable, '-m', 'pip', 'install', *__missing], stdout=subprocess.DEVNULL)"
   ]
  },
  {
   "cell_type": "code",
   "execution_count": null,
   "metadata": {
    "id": "VlBxKASNqblr"
   },
   "outputs": [],
   "source": [
    "!python3 -m casatools --update-user-data"
   ]
  },
  {
   "cell_type": "markdown",
   "metadata": {
    "id": "Y5_Y1wfXFMoo"
   },
   "source": [
    "## Utility Functions"
   ]
  },
  {
   "cell_type": "code",
   "execution_count": null,
   "metadata": {
    "colab": {
     "base_uri": "https://localhost:8080/"
    },
    "id": "SsZH-VzmYs8P",
    "outputId": "1ac54b27-ed61-4818-a3d5-13c738434e77"
   },
   "outputs": [],
   "source": [
    "def clean_data():\n",
    "    import os\n",
    "    \n",
    "    os.system('rm -rf mosaic_cube* *.log *.png *.html')"
   ]
  },
  {
   "cell_type": "markdown",
   "metadata": {
    "id": "J88MWrnHFXZP"
   },
   "source": [
    "## Stakeholder Datasets"
   ]
  },
  {
   "cell_type": "markdown",
   "metadata": {
    "id": "qkRyVmChIil2"
   },
   "source": [
    "```\n",
    "Datasets (MOUS)\n",
    "E2E6.1.00034.S (uid://A002/Xcff05c/X1ec)\n",
    "\n",
    "Test list:\n",
    "9c.  Mosaic cube with pcwdT+briggsbwtaper- E2E6.1.00034.S\n",
    "\n",
    "Each test stores reference values in dictionaries for the metrics\n",
    "to be tested and these dictionaries are stored in a single nested dictionary\n",
    "in a json file located in the casatestdata repository. \n",
    "The path of json file is stored in the variable, \n",
    "       self.expdict_jsonfile  \n",
    "in test_tclean_base.setUp(). \n",
    "\n",
    "* NOTE for updating the tests and fiducial values in json file *\n",
    "When the json file is updated and its 'casa_version'\n",
    "could also be updated then self.refversion in the setUp() needs to be updated to\n",
    "match with the 'casa_version' as defined in the json file otherwise \n",
    "almastkteestutils.read_testcase_expdicts() print an error message.\n",
    "\n",
    "The fudicial metric values for a specific image are stored with the following keys.\n",
    " \n",
    "For the standard tests, default sets are:\n",
    "    exp_im_stats, exp_mask_stats, exp_pb_stats, exp_psf_stats,\n",
    "    exp_model_stats, exp_resid_stats, exp_sumwt_stats\n",
    "For mosaic tests, the ones above and\n",
    "    exp_wt_stats (for mosaic)\n",
    "Additionally, for cube imaging (if self.parallel=True),\n",
    "    exp_bmin_dict, exp_bmaj_dict, exp_pa_dict\n",
    "And for mtmfs\n",
    "    exp_im1_stats, exp_model1_stats, exp_resid1_stats, exp_sumwt1_stats\n",
    "```"
   ]
  },
  {
   "cell_type": "markdown",
   "metadata": {
    "id": "RfDJlKvqGFKj"
   },
   "source": [
    "## Load Stakeholder Data"
   ]
  },
  {
   "cell_type": "code",
   "execution_count": null,
   "metadata": {
    "colab": {
     "base_uri": "https://localhost:8080/"
    },
    "id": "9vDBSCKw2a2h",
    "outputId": "72320507-413d-44ab-ce5f-6838b4646451"
   },
   "outputs": [],
   "source": [
    "!wget -r -np -nH --cut-dirs=4 --reject \"index.html*\" https://www.cv.nrao.edu/~jhoskins/E2E6.1.00034.S_tclean.ms.tar\n",
    "!tar -xvf E2E6.1.00034.S_tclean.ms.tar\n",
    "os.system('mv E2E6.1.00034.S_tclean.ms data/')\n",
    "\n",
    "!wget -r -np -nH --cut-dirs=4 --reject \"index.html*\" https://www.cv.nrao.edu/~jhoskins/test_stk_alma_pipeline_imaging_exp_dicts.json\n",
    "os.system('mv test_stk_alma_pipeline_imaging_exp_dicts.json ./data/')"
   ]
  },
  {
   "cell_type": "markdown",
   "metadata": {},
   "source": [
    "## Enable mpi"
   ]
  },
  {
   "cell_type": "code",
   "execution_count": null,
   "metadata": {},
   "outputs": [],
   "source": [
    "parallel = False"
   ]
  },
  {
   "cell_type": "markdown",
   "metadata": {
    "id": "rcdI_4s_Fusc"
   },
   "source": [
    "## Import Required Dependencies"
   ]
  },
  {
   "cell_type": "code",
   "execution_count": null,
   "metadata": {
    "colab": {
     "base_uri": "https://localhost:8080/",
     "height": 34
    },
    "id": "BZv81A02X5DX",
    "outputId": "701e9c11-c24d-487c-9c9d-b7f6f7855211"
   },
   "outputs": [],
   "source": [
    "import casatasks\n",
    "import casatools\n",
    "import panel as pn\n",
    "\n",
    "from astropy.io import fits\n",
    "from astropy.wcs import WCS\n",
    "\n",
    "import pylab as pl\n",
    "import numpy as np\n",
    "\n",
    "import scripts.test_mosaic_cube_briggsbwtaper as stk\n"
   ]
  },
  {
   "cell_type": "markdown",
   "metadata": {},
   "source": [
    "## User Stakeholder Test\n",
    "\n",
    "The unit test script is broken into **three** core parts within the notebook.\n",
    "\n",
    "- Setup\n",
    "- Modifiable Tests\n",
    "- Metric Checks and Reporting\n",
    "\n",
    "### Setup \n",
    "The setup section handles setting up the untit test and general class instantiation. In general the user shouldn't have to change this. For those that are developing their own stakeholder test, the setup section would include all the functions required to run the unit tests along with any user defined utility functions specific to their tests.\n",
    "\n",
    "### Testing\n",
    "The testing section makes the stakeholder test code available to the user such that they can modify parameters, check their diagnostic and rerun the tests. The tests in the notebook are presented as they are defined in the unit testing script including their default values. **It is recommended that the user restart the kernel and run all after each change**\n",
    "\n",
    "### Metric Checks and Testing\n",
    "This section runs the unit tests built in metric code as well as allowing the user to write their won diagnostics code. In addition, the user can access and tweak the values in the 'expected metrics' JSON using the setter/getter functionality.\n",
    "\n",
    "**Getting**\n",
    "`new_dict = standard.exp_dict`\n",
    "\n",
    "**Modifying**\n",
    "`new_dict['exp_im_stats']['im_rms'][1] = <new value>`\n",
    "\n",
    "**Setting**\n",
    "`standard.exp_dict = new_dict`\n",
    "\n",
    "The user can now rerun the metric test functions and the new dictionay will be used. This will not be the case if the kernel or the testing class is reinstantiated."
   ]
  },
  {
   "cell_type": "markdown",
   "metadata": {
    "id": "tzhuhki9F6ds"
   },
   "source": [
    "## Setup"
   ]
  },
  {
   "cell_type": "code",
   "execution_count": null,
   "metadata": {
    "id": "dbRcWT9Aa9GS"
   },
   "outputs": [],
   "source": [
    "standard = stk.Test_standard()\n",
    "\n",
    "standard.set_file_path(path=os.getcwd()+\"/data/\")\n",
    "\n",
    "standard.setUp()\n",
    "standard.test_mosaic_cube_briggsbwtaper()"
   ]
  },
  {
   "cell_type": "markdown",
   "metadata": {},
   "source": [
    "## Testing\n",
    "\n",
    "The head(footer) are used with `nbsyc.py` which allows the user to sync change either from `notebook` --> `scipt` or `script` --> `notebook`. The formatting of the headers(footers) is important. There must be a single whitespace after the header and before the footer. Any changes made between the header(footer) will be sync with `nbsync.py`."
   ]
  },
  {
   "cell_type": "code",
   "execution_count": null,
   "metadata": {
    "colab": {
     "base_uri": "https://localhost:8080/"
    },
    "id": "PijniNbycfPc",
    "outputId": "8e9b4a7b-91ad-4781-a618-30e8ff29c52f"
   },
   "outputs": [],
   "source": [
    "msfile = standard.data_path + '/E2E6.1.00034.S_tclean.ms'\n",
    "file_name = standard.file_name\n",
    "\n",
    "# %% test_mosaic_cube_briggsbwtaper_tclean_1 start @\n",
    "\n",
    "casatasks.tclean(vis=msfile, field='SMIDGE_NWCloud', spw=['0'], \\\n",
    "            antenna=['0,1,2,3,4,5,6,7,8'], scan=['8,12,16'], \\\n",
    "            intent='OBSERVE_TARGET#ON_SOURCE', datacolumn='data', \\\n",
    "            imagename=file_name+'0', imsize=[108, 108], cell=['1.1arcsec'], \\\n",
    "            phasecenter='ICRS 00:45:54.3836 -073.15.29.413', stokes='I', \\\n",
    "            specmode='cube', nchan=508, start='220.2526743594GHz', \\\n",
    "            width='0.2441741MHz', outframe='LSRK', \\\n",
    "            perchanweightdensity=True, gridder='mosaic', \\\n",
    "            mosweight=True, usepointing=False, pblimit=0.2, \\\n",
    "            deconvolver='hogbom', restoration=False, restoringbeam='common', \\\n",
    "            pbcor=False, weighting='briggsbwtaper', robust=0.5, npixels=0, niter=0, \\\n",
    "            threshold='0.0mJy', interactive=0, usemask='auto-multithresh', \\\n",
    "            sidelobethreshold=1.25, noisethreshold=5.0, \\\n",
    "            lownoisethreshold=2.0, negativethreshold=0.0, minbeamfrac=0.1, \\\n",
    "            growiterations=75, dogrowprune=True, minpercentchange=1.0, \\\n",
    "            fastnoise=False, savemodel='none', parallel=parallel,\n",
    "            verbose=True)\n",
    "\n",
    "# %% test_mosaic_cube_briggsbwtaper_tclean_1 end @\n",
    "\n",
    "print('Copying iter0 files to iter1')\n",
    "standard.copy_products(file_name+'0', file_name+'1')"
   ]
  },
  {
   "cell_type": "code",
   "execution_count": null,
   "metadata": {
    "colab": {
     "base_uri": "https://localhost:8080/"
    },
    "id": "s8EX0CndzHQM",
    "outputId": "a14a7aaa-9c33-4ff0-bd80-3fc4dfc470fc"
   },
   "outputs": [],
   "source": [
    "casatasks.imstat(file_name + '0.psf')"
   ]
  },
  {
   "cell_type": "code",
   "execution_count": null,
   "metadata": {
    "colab": {
     "base_uri": "https://localhost:8080/"
    },
    "id": "Pv_7DKiQcd90",
    "outputId": "644d185c-e17d-4a5b-e9aa-2104d04634cf"
   },
   "outputs": [],
   "source": [
    "# %% test_mosaic_cube_briggsbwtaper_tclean_2 start @\n",
    "\n",
    "casatasks.tclean(vis=msfile, field='SMIDGE_NWCloud', spw=['0'], \\\n",
    "            antenna=['0,1,2,3,4,5,6,7,8'],scan=['8,12,16'], \\\n",
    "            intent='OBSERVE_TARGET#ON_SOURCE', datacolumn='data', \\\n",
    "            imagename=file_name+'1', imsize=[108, 108], \\\n",
    "            cell=['1.1arcsec'], phasecenter='ICRS 00:45:54.3836'\n",
    "            ' -073.15.29.413', stokes='I', specmode='cube', nchan=508, \\\n",
    "            start='220.2526743594GHz', width='0.2441741MHz', \\\n",
    "            outframe='LSRK', perchanweightdensity=True, \\\n",
    "            gridder='mosaic', mosweight=True, \\\n",
    "            usepointing=False, pblimit=0.2, deconvolver='hogbom', \\\n",
    "            restoration=True, restoringbeam='common', \\\n",
    "            pbcor=True, weighting='briggsbwtaper', robust=0.5,\\\n",
    "            npixels=0, niter=20000, threshold='0.354Jy', nsigma=0.0, \\\n",
    "            interactive=0, usemask='auto-multithresh', \\\n",
    "            sidelobethreshold=1.25, noisethreshold=5.0, \\\n",
    "            lownoisethreshold=2.0, negativethreshold=0.0, \\\n",
    "            minbeamfrac=0.1, growiterations=75, dogrowprune=True, \\\n",
    "            minpercentchange=1.0, fastnoise=False, restart=True, \\\n",
    "            savemodel='none', calcres=False, calcpsf=False, \\\n",
    "            parallel=parallel, verbose=True)\n",
    "\n",
    "# %% test_mosaic_cube_briggsbwtaper_tclean_1 end @"
   ]
  },
  {
   "cell_type": "markdown",
   "metadata": {
    "id": "6t2vW9TAGOnf"
   },
   "source": [
    "## Produce Standard Cube Report"
   ]
  },
  {
   "cell_type": "markdown",
   "metadata": {
    "id": "OyXwWoMYRILb"
   },
   "source": [
    "\n"
   ]
  },
  {
   "cell_type": "code",
   "execution_count": null,
   "metadata": {
    "id": "dfM5kNB7ckkN"
   },
   "outputs": [],
   "source": [
    "standard.standard_cube_report()"
   ]
  },
  {
   "cell_type": "markdown",
   "metadata": {},
   "source": [
    "## Clean Data\n",
    "Uncomment this if you want to clean the working files out of the directory."
   ]
  },
  {
   "cell_type": "code",
   "execution_count": null,
   "metadata": {
    "id": "a7pr5trR1QqJ"
   },
   "outputs": [],
   "source": [
    "#clean_data()"
   ]
  },
  {
   "cell_type": "markdown",
   "metadata": {},
   "source": [
    "### Display Weblog"
   ]
  },
  {
   "cell_type": "code",
   "execution_count": null,
   "metadata": {},
   "outputs": [],
   "source": [
    "from IPython.display import IFrame\n",
    "\n",
    "IFrame(src='./test_tclean_alma_pipeline_weblog.html', width=900, height=600)"
   ]
  }
 ],
 "metadata": {
  "colab": {
   "collapsed_sections": [
    "J88MWrnHFXZP",
    "5omVbUilFTK6"
   ],
   "name": "stakeholder.ipynb",
   "provenance": []
  },
  "kernelspec": {
   "display_name": "Python 3",
   "language": "python",
   "name": "python3"
  },
  "language_info": {
   "codemirror_mode": {
    "name": "ipython",
    "version": 3
   },
   "file_extension": ".py",
   "mimetype": "text/x-python",
   "name": "python",
   "nbconvert_exporter": "python",
   "pygments_lexer": "ipython3",
   "version": "3.6.8"
  }
 },
 "nbformat": 4,
 "nbformat_minor": 1
}
